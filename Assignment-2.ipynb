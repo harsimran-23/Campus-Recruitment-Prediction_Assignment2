{
 "cells": [
  {
   "cell_type": "markdown",
   "id": "79e9081c",
   "metadata": {},
   "source": [
    "## Assignment 2"
   ]
  },
  {
   "cell_type": "markdown",
   "id": "dac575af",
   "metadata": {},
   "source": [
    "Name : Harsimran Kaur\n",
    "\n",
    "Student ID : C0908419"
   ]
  },
  {
   "cell_type": "markdown",
   "id": "fbc5063a",
   "metadata": {},
   "source": [
    "## 1) Data Selection"
   ]
  },
  {
   "cell_type": "markdown",
   "id": "0db97fbc",
   "metadata": {},
   "source": [
    "The __Campus Placement__ dataset contains detailed student data that can be used to predict campus placement outcomes based on various academic, demographic, and employability factors. The dataset consists of 15 features:\n",
    "\n",
    "__sl_no:__ Serial number of the student.\n",
    "\n",
    "__gender:__ Gender of the student (Male/Female).\n",
    "\n",
    "__ssc_p:__ Percentage of marks obtained in Secondary Education (10th grade).\n",
    "\n",
    "__ssc_b:__ Board of Education for 10th grade (Central/Other).\n",
    "\n",
    "__hsc_p:__ Percentage of marks obtained in Higher Secondary Education (12th grade).\n",
    "\n",
    "__hsc_b:__ Board of Education for 12th grade (Central/Other).\n",
    "\n",
    "__hsc_s:__ Specialization in Higher Secondary Education (Science/Commerce/Arts).\n",
    "\n",
    "__degree_p:__ Percentage of marks obtained in the undergraduate degree.\n",
    "\n",
    "__degree_t:__ Type of undergraduate degree (Science/Commerce/Arts).\n",
    "\n",
    "__workex:__ Work experience (Yes/No), indicating if the student had any prior work experience.\n",
    "\n",
    "__etest_p:__ Employability test score percentage.\n",
    "\n",
    "__specialisation:__ MBA specialization (Marketing & Finance or Marketing & HR).\n",
    "\n",
    "__mba_p:__ Percentage of marks obtained in the MBA degree.\n",
    "\n",
    "__status:__ Placement status (Placed/Not Placed).\n",
    "\n",
    "__salary:__ Salary offered to the student if they were placed.\n",
    "\n",
    "This dataset is designed to explore the relationships between students' educational background, work experience, employability test scores, and the likelihood of being placed through campus recruitment. The __target variable__ is the __status__, which indicates whether the student secured a job offer. The feature __salary__ is only populated for students who were placed."
   ]
  },
  {
   "cell_type": "markdown",
   "id": "80b98412",
   "metadata": {},
   "source": [
    "## 2) Data Cleaning and EDA"
   ]
  },
  {
   "cell_type": "code",
   "execution_count": 1,
   "id": "7e2a976f",
   "metadata": {},
   "outputs": [],
   "source": [
    "import pandas as pd\n",
    "import numpy as np\n",
    "import warnings \n",
    "warnings.filterwarnings('ignore')"
   ]
  },
  {
   "cell_type": "code",
   "execution_count": 21,
   "id": "dea87a7f",
   "metadata": {},
   "outputs": [
    {
     "data": {
      "text/html": [
       "<div>\n",
       "<style scoped>\n",
       "    .dataframe tbody tr th:only-of-type {\n",
       "        vertical-align: middle;\n",
       "    }\n",
       "\n",
       "    .dataframe tbody tr th {\n",
       "        vertical-align: top;\n",
       "    }\n",
       "\n",
       "    .dataframe thead th {\n",
       "        text-align: right;\n",
       "    }\n",
       "</style>\n",
       "<table border=\"1\" class=\"dataframe\">\n",
       "  <thead>\n",
       "    <tr style=\"text-align: right;\">\n",
       "      <th></th>\n",
       "      <th>sl_no</th>\n",
       "      <th>gender</th>\n",
       "      <th>ssc_p</th>\n",
       "      <th>ssc_b</th>\n",
       "      <th>hsc_p</th>\n",
       "      <th>hsc_b</th>\n",
       "      <th>hsc_s</th>\n",
       "      <th>degree_p</th>\n",
       "      <th>degree_t</th>\n",
       "      <th>workex</th>\n",
       "      <th>etest_p</th>\n",
       "      <th>specialisation</th>\n",
       "      <th>mba_p</th>\n",
       "      <th>status</th>\n",
       "      <th>salary</th>\n",
       "    </tr>\n",
       "  </thead>\n",
       "  <tbody>\n",
       "    <tr>\n",
       "      <th>0</th>\n",
       "      <td>1</td>\n",
       "      <td>M</td>\n",
       "      <td>67.00</td>\n",
       "      <td>Others</td>\n",
       "      <td>91.00</td>\n",
       "      <td>Others</td>\n",
       "      <td>Commerce</td>\n",
       "      <td>58.00</td>\n",
       "      <td>Sci&amp;Tech</td>\n",
       "      <td>No</td>\n",
       "      <td>55.0</td>\n",
       "      <td>Mkt&amp;HR</td>\n",
       "      <td>58.80</td>\n",
       "      <td>Placed</td>\n",
       "      <td>270000.0</td>\n",
       "    </tr>\n",
       "    <tr>\n",
       "      <th>1</th>\n",
       "      <td>2</td>\n",
       "      <td>M</td>\n",
       "      <td>79.33</td>\n",
       "      <td>Central</td>\n",
       "      <td>78.33</td>\n",
       "      <td>Others</td>\n",
       "      <td>Science</td>\n",
       "      <td>77.48</td>\n",
       "      <td>Sci&amp;Tech</td>\n",
       "      <td>Yes</td>\n",
       "      <td>86.5</td>\n",
       "      <td>Mkt&amp;Fin</td>\n",
       "      <td>66.28</td>\n",
       "      <td>Placed</td>\n",
       "      <td>200000.0</td>\n",
       "    </tr>\n",
       "    <tr>\n",
       "      <th>2</th>\n",
       "      <td>3</td>\n",
       "      <td>M</td>\n",
       "      <td>65.00</td>\n",
       "      <td>Central</td>\n",
       "      <td>68.00</td>\n",
       "      <td>Central</td>\n",
       "      <td>Arts</td>\n",
       "      <td>64.00</td>\n",
       "      <td>Comm&amp;Mgmt</td>\n",
       "      <td>No</td>\n",
       "      <td>75.0</td>\n",
       "      <td>Mkt&amp;Fin</td>\n",
       "      <td>57.80</td>\n",
       "      <td>Placed</td>\n",
       "      <td>250000.0</td>\n",
       "    </tr>\n",
       "    <tr>\n",
       "      <th>3</th>\n",
       "      <td>4</td>\n",
       "      <td>M</td>\n",
       "      <td>56.00</td>\n",
       "      <td>Central</td>\n",
       "      <td>52.00</td>\n",
       "      <td>Central</td>\n",
       "      <td>Science</td>\n",
       "      <td>52.00</td>\n",
       "      <td>Sci&amp;Tech</td>\n",
       "      <td>No</td>\n",
       "      <td>66.0</td>\n",
       "      <td>Mkt&amp;HR</td>\n",
       "      <td>59.43</td>\n",
       "      <td>Not Placed</td>\n",
       "      <td>NaN</td>\n",
       "    </tr>\n",
       "    <tr>\n",
       "      <th>4</th>\n",
       "      <td>5</td>\n",
       "      <td>M</td>\n",
       "      <td>85.80</td>\n",
       "      <td>Central</td>\n",
       "      <td>73.60</td>\n",
       "      <td>Central</td>\n",
       "      <td>Commerce</td>\n",
       "      <td>73.30</td>\n",
       "      <td>Comm&amp;Mgmt</td>\n",
       "      <td>No</td>\n",
       "      <td>96.8</td>\n",
       "      <td>Mkt&amp;Fin</td>\n",
       "      <td>55.50</td>\n",
       "      <td>Placed</td>\n",
       "      <td>425000.0</td>\n",
       "    </tr>\n",
       "    <tr>\n",
       "      <th>...</th>\n",
       "      <td>...</td>\n",
       "      <td>...</td>\n",
       "      <td>...</td>\n",
       "      <td>...</td>\n",
       "      <td>...</td>\n",
       "      <td>...</td>\n",
       "      <td>...</td>\n",
       "      <td>...</td>\n",
       "      <td>...</td>\n",
       "      <td>...</td>\n",
       "      <td>...</td>\n",
       "      <td>...</td>\n",
       "      <td>...</td>\n",
       "      <td>...</td>\n",
       "      <td>...</td>\n",
       "    </tr>\n",
       "    <tr>\n",
       "      <th>210</th>\n",
       "      <td>211</td>\n",
       "      <td>M</td>\n",
       "      <td>80.60</td>\n",
       "      <td>Others</td>\n",
       "      <td>82.00</td>\n",
       "      <td>Others</td>\n",
       "      <td>Commerce</td>\n",
       "      <td>77.60</td>\n",
       "      <td>Comm&amp;Mgmt</td>\n",
       "      <td>No</td>\n",
       "      <td>91.0</td>\n",
       "      <td>Mkt&amp;Fin</td>\n",
       "      <td>74.49</td>\n",
       "      <td>Placed</td>\n",
       "      <td>400000.0</td>\n",
       "    </tr>\n",
       "    <tr>\n",
       "      <th>211</th>\n",
       "      <td>212</td>\n",
       "      <td>M</td>\n",
       "      <td>58.00</td>\n",
       "      <td>Others</td>\n",
       "      <td>60.00</td>\n",
       "      <td>Others</td>\n",
       "      <td>Science</td>\n",
       "      <td>72.00</td>\n",
       "      <td>Sci&amp;Tech</td>\n",
       "      <td>No</td>\n",
       "      <td>74.0</td>\n",
       "      <td>Mkt&amp;Fin</td>\n",
       "      <td>53.62</td>\n",
       "      <td>Placed</td>\n",
       "      <td>275000.0</td>\n",
       "    </tr>\n",
       "    <tr>\n",
       "      <th>212</th>\n",
       "      <td>213</td>\n",
       "      <td>M</td>\n",
       "      <td>67.00</td>\n",
       "      <td>Others</td>\n",
       "      <td>67.00</td>\n",
       "      <td>Others</td>\n",
       "      <td>Commerce</td>\n",
       "      <td>73.00</td>\n",
       "      <td>Comm&amp;Mgmt</td>\n",
       "      <td>Yes</td>\n",
       "      <td>59.0</td>\n",
       "      <td>Mkt&amp;Fin</td>\n",
       "      <td>69.72</td>\n",
       "      <td>Placed</td>\n",
       "      <td>295000.0</td>\n",
       "    </tr>\n",
       "    <tr>\n",
       "      <th>213</th>\n",
       "      <td>214</td>\n",
       "      <td>F</td>\n",
       "      <td>74.00</td>\n",
       "      <td>Others</td>\n",
       "      <td>66.00</td>\n",
       "      <td>Others</td>\n",
       "      <td>Commerce</td>\n",
       "      <td>58.00</td>\n",
       "      <td>Comm&amp;Mgmt</td>\n",
       "      <td>No</td>\n",
       "      <td>70.0</td>\n",
       "      <td>Mkt&amp;HR</td>\n",
       "      <td>60.23</td>\n",
       "      <td>Placed</td>\n",
       "      <td>204000.0</td>\n",
       "    </tr>\n",
       "    <tr>\n",
       "      <th>214</th>\n",
       "      <td>215</td>\n",
       "      <td>M</td>\n",
       "      <td>62.00</td>\n",
       "      <td>Central</td>\n",
       "      <td>58.00</td>\n",
       "      <td>Others</td>\n",
       "      <td>Science</td>\n",
       "      <td>53.00</td>\n",
       "      <td>Comm&amp;Mgmt</td>\n",
       "      <td>No</td>\n",
       "      <td>89.0</td>\n",
       "      <td>Mkt&amp;HR</td>\n",
       "      <td>60.22</td>\n",
       "      <td>Not Placed</td>\n",
       "      <td>NaN</td>\n",
       "    </tr>\n",
       "  </tbody>\n",
       "</table>\n",
       "<p>215 rows × 15 columns</p>\n",
       "</div>"
      ],
      "text/plain": [
       "     sl_no gender  ssc_p    ssc_b  hsc_p    hsc_b     hsc_s  degree_p  \\\n",
       "0        1      M  67.00   Others  91.00   Others  Commerce     58.00   \n",
       "1        2      M  79.33  Central  78.33   Others   Science     77.48   \n",
       "2        3      M  65.00  Central  68.00  Central      Arts     64.00   \n",
       "3        4      M  56.00  Central  52.00  Central   Science     52.00   \n",
       "4        5      M  85.80  Central  73.60  Central  Commerce     73.30   \n",
       "..     ...    ...    ...      ...    ...      ...       ...       ...   \n",
       "210    211      M  80.60   Others  82.00   Others  Commerce     77.60   \n",
       "211    212      M  58.00   Others  60.00   Others   Science     72.00   \n",
       "212    213      M  67.00   Others  67.00   Others  Commerce     73.00   \n",
       "213    214      F  74.00   Others  66.00   Others  Commerce     58.00   \n",
       "214    215      M  62.00  Central  58.00   Others   Science     53.00   \n",
       "\n",
       "      degree_t workex  etest_p specialisation  mba_p      status    salary  \n",
       "0     Sci&Tech     No     55.0         Mkt&HR  58.80      Placed  270000.0  \n",
       "1     Sci&Tech    Yes     86.5        Mkt&Fin  66.28      Placed  200000.0  \n",
       "2    Comm&Mgmt     No     75.0        Mkt&Fin  57.80      Placed  250000.0  \n",
       "3     Sci&Tech     No     66.0         Mkt&HR  59.43  Not Placed       NaN  \n",
       "4    Comm&Mgmt     No     96.8        Mkt&Fin  55.50      Placed  425000.0  \n",
       "..         ...    ...      ...            ...    ...         ...       ...  \n",
       "210  Comm&Mgmt     No     91.0        Mkt&Fin  74.49      Placed  400000.0  \n",
       "211   Sci&Tech     No     74.0        Mkt&Fin  53.62      Placed  275000.0  \n",
       "212  Comm&Mgmt    Yes     59.0        Mkt&Fin  69.72      Placed  295000.0  \n",
       "213  Comm&Mgmt     No     70.0         Mkt&HR  60.23      Placed  204000.0  \n",
       "214  Comm&Mgmt     No     89.0         Mkt&HR  60.22  Not Placed       NaN  \n",
       "\n",
       "[215 rows x 15 columns]"
      ]
     },
     "execution_count": 21,
     "metadata": {},
     "output_type": "execute_result"
    }
   ],
   "source": [
    "# Reading the csv file\n",
    "df = pd.read_csv(\"Placement_Data_Full_Class.csv\")\n",
    "\n",
    "df"
   ]
  },
  {
   "cell_type": "code",
   "execution_count": 22,
   "id": "46bd817c",
   "metadata": {},
   "outputs": [
    {
     "data": {
      "text/plain": [
       "sl_no              0\n",
       "gender             0\n",
       "ssc_p              0\n",
       "ssc_b              0\n",
       "hsc_p              0\n",
       "hsc_b              0\n",
       "hsc_s              0\n",
       "degree_p           0\n",
       "degree_t           0\n",
       "workex             0\n",
       "etest_p            0\n",
       "specialisation     0\n",
       "mba_p              0\n",
       "status             0\n",
       "salary            67\n",
       "dtype: int64"
      ]
     },
     "execution_count": 22,
     "metadata": {},
     "output_type": "execute_result"
    }
   ],
   "source": [
    "df.isnull().sum()  # Checking for null values"
   ]
  },
  {
   "cell_type": "markdown",
   "id": "d458a8e3",
   "metadata": {},
   "source": [
    "__Observation :__ There are no Null values in any of the columns except Salary. There are records with null value where the student isn't placed."
   ]
  },
  {
   "cell_type": "code",
   "execution_count": 23,
   "id": "db0bfebf",
   "metadata": {},
   "outputs": [
    {
     "data": {
      "text/html": [
       "<div>\n",
       "<style scoped>\n",
       "    .dataframe tbody tr th:only-of-type {\n",
       "        vertical-align: middle;\n",
       "    }\n",
       "\n",
       "    .dataframe tbody tr th {\n",
       "        vertical-align: top;\n",
       "    }\n",
       "\n",
       "    .dataframe thead th {\n",
       "        text-align: right;\n",
       "    }\n",
       "</style>\n",
       "<table border=\"1\" class=\"dataframe\">\n",
       "  <thead>\n",
       "    <tr style=\"text-align: right;\">\n",
       "      <th></th>\n",
       "      <th>sl_no</th>\n",
       "      <th>ssc_p</th>\n",
       "      <th>hsc_p</th>\n",
       "      <th>degree_p</th>\n",
       "      <th>etest_p</th>\n",
       "      <th>mba_p</th>\n",
       "      <th>salary</th>\n",
       "    </tr>\n",
       "  </thead>\n",
       "  <tbody>\n",
       "    <tr>\n",
       "      <th>count</th>\n",
       "      <td>215.000000</td>\n",
       "      <td>215.000000</td>\n",
       "      <td>215.000000</td>\n",
       "      <td>215.000000</td>\n",
       "      <td>215.000000</td>\n",
       "      <td>215.000000</td>\n",
       "      <td>148.000000</td>\n",
       "    </tr>\n",
       "    <tr>\n",
       "      <th>mean</th>\n",
       "      <td>108.000000</td>\n",
       "      <td>67.303395</td>\n",
       "      <td>66.333163</td>\n",
       "      <td>66.370186</td>\n",
       "      <td>72.100558</td>\n",
       "      <td>62.278186</td>\n",
       "      <td>288655.405405</td>\n",
       "    </tr>\n",
       "    <tr>\n",
       "      <th>std</th>\n",
       "      <td>62.209324</td>\n",
       "      <td>10.827205</td>\n",
       "      <td>10.897509</td>\n",
       "      <td>7.358743</td>\n",
       "      <td>13.275956</td>\n",
       "      <td>5.833385</td>\n",
       "      <td>93457.452420</td>\n",
       "    </tr>\n",
       "    <tr>\n",
       "      <th>min</th>\n",
       "      <td>1.000000</td>\n",
       "      <td>40.890000</td>\n",
       "      <td>37.000000</td>\n",
       "      <td>50.000000</td>\n",
       "      <td>50.000000</td>\n",
       "      <td>51.210000</td>\n",
       "      <td>200000.000000</td>\n",
       "    </tr>\n",
       "    <tr>\n",
       "      <th>25%</th>\n",
       "      <td>54.500000</td>\n",
       "      <td>60.600000</td>\n",
       "      <td>60.900000</td>\n",
       "      <td>61.000000</td>\n",
       "      <td>60.000000</td>\n",
       "      <td>57.945000</td>\n",
       "      <td>240000.000000</td>\n",
       "    </tr>\n",
       "    <tr>\n",
       "      <th>50%</th>\n",
       "      <td>108.000000</td>\n",
       "      <td>67.000000</td>\n",
       "      <td>65.000000</td>\n",
       "      <td>66.000000</td>\n",
       "      <td>71.000000</td>\n",
       "      <td>62.000000</td>\n",
       "      <td>265000.000000</td>\n",
       "    </tr>\n",
       "    <tr>\n",
       "      <th>75%</th>\n",
       "      <td>161.500000</td>\n",
       "      <td>75.700000</td>\n",
       "      <td>73.000000</td>\n",
       "      <td>72.000000</td>\n",
       "      <td>83.500000</td>\n",
       "      <td>66.255000</td>\n",
       "      <td>300000.000000</td>\n",
       "    </tr>\n",
       "    <tr>\n",
       "      <th>max</th>\n",
       "      <td>215.000000</td>\n",
       "      <td>89.400000</td>\n",
       "      <td>97.700000</td>\n",
       "      <td>91.000000</td>\n",
       "      <td>98.000000</td>\n",
       "      <td>77.890000</td>\n",
       "      <td>940000.000000</td>\n",
       "    </tr>\n",
       "  </tbody>\n",
       "</table>\n",
       "</div>"
      ],
      "text/plain": [
       "            sl_no       ssc_p       hsc_p    degree_p     etest_p       mba_p  \\\n",
       "count  215.000000  215.000000  215.000000  215.000000  215.000000  215.000000   \n",
       "mean   108.000000   67.303395   66.333163   66.370186   72.100558   62.278186   \n",
       "std     62.209324   10.827205   10.897509    7.358743   13.275956    5.833385   \n",
       "min      1.000000   40.890000   37.000000   50.000000   50.000000   51.210000   \n",
       "25%     54.500000   60.600000   60.900000   61.000000   60.000000   57.945000   \n",
       "50%    108.000000   67.000000   65.000000   66.000000   71.000000   62.000000   \n",
       "75%    161.500000   75.700000   73.000000   72.000000   83.500000   66.255000   \n",
       "max    215.000000   89.400000   97.700000   91.000000   98.000000   77.890000   \n",
       "\n",
       "              salary  \n",
       "count     148.000000  \n",
       "mean   288655.405405  \n",
       "std     93457.452420  \n",
       "min    200000.000000  \n",
       "25%    240000.000000  \n",
       "50%    265000.000000  \n",
       "75%    300000.000000  \n",
       "max    940000.000000  "
      ]
     },
     "execution_count": 23,
     "metadata": {},
     "output_type": "execute_result"
    }
   ],
   "source": [
    "df.describe()   # Statistical description"
   ]
  },
  {
   "cell_type": "markdown",
   "id": "ef749f6f",
   "metadata": {},
   "source": [
    "__Observation :__ All the values looks good and there is no evidence of an outlier in any of the feature"
   ]
  },
  {
   "cell_type": "code",
   "execution_count": 24,
   "id": "f83e04d4",
   "metadata": {},
   "outputs": [
    {
     "data": {
      "text/plain": [
       "0"
      ]
     },
     "execution_count": 24,
     "metadata": {},
     "output_type": "execute_result"
    }
   ],
   "source": [
    "df.duplicated().sum()  # Checking or duplicate records"
   ]
  },
  {
   "cell_type": "markdown",
   "id": "ea123c5e",
   "metadata": {},
   "source": [
    "__Observation :__ There are no duplicate records in the dataset"
   ]
  },
  {
   "cell_type": "code",
   "execution_count": 25,
   "id": "286b0f89",
   "metadata": {},
   "outputs": [],
   "source": [
    "import matplotlib.pyplot as plt\n",
    "import seaborn as sns"
   ]
  },
  {
   "cell_type": "code",
   "execution_count": 26,
   "id": "9edb9973",
   "metadata": {},
   "outputs": [
    {
     "data": {
      "image/png": "[encoded data removed]",
      "text/plain": [
       "<Figure size 800x800 with 1 Axes>"
      ]
     },
     "metadata": {},
     "output_type": "display_data"
    }
   ],
   "source": [
    "# Count the number of occurrences for each category in the 'status' column\n",
    "status_counts = df['status'].value_counts()\n",
    "\n",
    "# Create a pie chart\n",
    "plt.figure(figsize=(8, 8))\n",
    "plt.pie(status_counts, labels=status_counts.index, autopct='%1.1f%%', startangle=90, colors=sns.color_palette('Set2'), wedgeprops={'edgecolor': 'black'})\n",
    "\n",
    "# Add a title\n",
    "plt.title('Placement Status Distribution', fontsize=16)\n",
    "\n",
    "# Display the pie chart\n",
    "plt.show()"
   ]
  },
  {
   "cell_type": "markdown",
   "id": "ba2f99e5-07bc-4a33-b51c-081f2200c95c",
   "metadata": {},
   "source": [
    "__Observation__:The chart shows that 68.8% of students were placed, indicating strong placement performance overall. However, with 31.2% of students not placed"
   ]
  },
  {
   "cell_type": "code",
   "execution_count": 27,
   "id": "77cbf904",
   "metadata": {},
   "outputs": [
    {
     "data": {
      "text/plain": [
       "status\n",
       "Placed        148\n",
       "Not Placed     67\n",
       "Name: count, dtype: int64"
      ]
     },
     "execution_count": 27,
     "metadata": {},
     "output_type": "execute_result"
    }
   ],
   "source": [
    "df['status'].value_counts()"
   ]
  },
  {
   "cell_type": "markdown",
   "id": "aab0f189",
   "metadata": {},
   "source": [
    "__Observation :__ This clearly indicated that more number of students got placed. However, there is some imbalance in the classes so oversampling or undersampling can be used to resolve this issue."
   ]
  },
  {
   "cell_type": "code",
   "execution_count": 28,
   "id": "af737e63-223e-4536-ba93-bc53ac3338dc",
   "metadata": {},
   "outputs": [
    {
     "name": "stdout",
     "output_type": "stream",
     "text": [
      "gender\n",
      "F    267291.666667\n",
      "M    298910.000000\n",
      "Name: salary, dtype: float64\n"
     ]
    }
   ],
   "source": [
    "mean_salary_by_gender = df.groupby('gender')['salary'].mean()\n",
    "print(mean_salary_by_gender)\n"
   ]
  },
  {
   "cell_type": "code",
   "execution_count": 29,
   "id": "03137737",
   "metadata": {},
   "outputs": [
    {
     "data": {
      "image/png": "[encoded data removed]",
      "text/plain": [
       "<Figure size 800x600 with 1 Axes>"
      ]
     },
     "metadata": {},
     "output_type": "display_data"
    }
   ],
   "source": [
    "# Bar plot of mean placed salary by gender\n",
    "plt.figure(figsize=(8, 6))\n",
    "sns.barplot(x=mean_salary_by_gender.index, y=mean_salary_by_gender.values)\n",
    "plt.title('Mean Placed Salary by Gender')\n",
    "plt.xlabel('Gender')\n",
    "plt.ylabel('Mean Placed Salary')\n",
    "plt.show()"
   ]
  },
  {
   "cell_type": "markdown",
   "id": "c8532f94",
   "metadata": {},
   "source": [
    "__Observation :__  males tend to have a marginally higher average salary than females,"
   ]
  },
  {
   "cell_type": "code",
   "execution_count": 31,
   "id": "144d92cf",
   "metadata": {},
   "outputs": [
    {
     "data": {
      "image/png": "[encoded data removed]",
      "text/plain": [
       "<Figure size 1200x600 with 5 Axes>"
      ]
     },
     "metadata": {},
     "output_type": "display_data"
    }
   ],
   "source": [
    "# boxplot to look for outliers\n",
    "plt.figure(figsize=(12, 6))\n",
    "for i, feature in enumerate(numerical_features):\n",
    "    plt.subplot(2, 3, i + 1)\n",
    "    sns.boxplot(y=df[feature])\n",
    "    plt.title(f'Boxplot of {feature}')\n",
    "plt.tight_layout()\n",
    "plt.show()"
   ]
  },
  {
   "cell_type": "markdown",
   "id": "0ffd25f9",
   "metadata": {},
   "source": [
    "__Observation :__ There is little to no outliers in any of the numerical features."
   ]
  },
  {
   "cell_type": "code",
   "execution_count": 32,
   "id": "0816c468",
   "metadata": {},
   "outputs": [
    {
     "data": {
      "image/png": "[encoded data removed]",
      "text/plain": [
       "<Figure size 1000x600 with 1 Axes>"
      ]
     },
     "metadata": {},
     "output_type": "display_data"
    }
   ],
   "source": [
    "plt.figure(figsize=(10, 6))\n",
    "sns.barplot(x='degree_t', y='salary', data=df)\n",
    "plt.title('Salary vs. Specialization')\n",
    "plt.xlabel('degree_t')\n",
    "plt.ylabel('Salary')\n",
    "plt.xticks(rotation=45)  # Rotate x-axis labels for better readability\n",
    "plt.show()"
   ]
  },
  {
   "cell_type": "markdown",
   "id": "337bd07c-55df-458f-b757-5222db38f3ef",
   "metadata": {},
   "source": [
    "__OBSERVATION__ :**Graduates from Science & Technology fields tend to have the highest salaries, whereas those from Commerce/Management and Other specializations earn slightly lower but similar salaries.**"
   ]
  },
  {
   "cell_type": "code",
   "execution_count": 33,
   "id": "06f77e90-297b-44e6-8fc9-5f450abc832d",
   "metadata": {},
   "outputs": [
    {
     "data": {
      "image/png": "[encoded data removed]",
      "text/plain": [
       "<Figure size 800x600 with 1 Axes>"
      ]
     },
     "metadata": {},
     "output_type": "display_data"
    }
   ],
   "source": [
    "plt.figure(figsize=(8,6))\n",
    "ax = sns.countplot(data=df, x= df['gender'], hue=df['status'], palette=['lightgreen','skyblue'])\n",
    "for i in ax.containers:\n",
    "    ax.bar_label(i)\n",
    "plt.title('Placed Vs Not-Placed students by gender') \n",
    "plt.show()  "
   ]
  },
  {
   "cell_type": "markdown",
   "id": "6e1b233d-a1b2-4d40-9154-b4b8fbc37602",
   "metadata": {},
   "source": [
    "__OBSERVATIONS__ :**Male students have a higher placement rate, with 100 placed and 39 not placed, while female students also show a majority placed (48) compared to 28 not placed. Overall, more males are placed than females, but both genders show higher placement than non-placement.**\n",
    "\n",
    "\n",
    "\n",
    "\n",
    "\n",
    "\n"
   ]
  },
  {
   "cell_type": "markdown",
   "id": "de78bd66",
   "metadata": {},
   "source": [
    "## 3) Data Preprocessing "
   ]
  },
  {
   "cell_type": "code",
   "execution_count": 34,
   "id": "9ca3fc43",
   "metadata": {},
   "outputs": [],
   "source": [
    "from sklearn.model_selection import train_test_split\n",
    "from sklearn.preprocessing import OneHotEncoder, StandardScaler\n",
    "from sklearn.compose import ColumnTransformer\n",
    "from sklearn.pipeline import Pipeline\n",
    "\n",
    "df.drop(columns=['sl_no'], inplace=True)  # dropping 'sl_no' as there is no relevant information in this feature\n",
    "\n",
    "# dropping 'salary' as we are predicting placement of students and salary will not play an important role in it\n",
    "X = df.drop(columns=['status', 'salary']) \n",
    "y = df['status'].map({'Placed': 1, 'Not Placed': 0})  # encoding the target variable\n",
    "\n",
    "numerical_columns = ['ssc_p', 'hsc_p', 'degree_p', 'etest_p', 'mba_p']  # numerical columns to scale\n",
    "\n",
    "binary_columns = ['gender', 'ssc_b', 'hsc_b']   # columns with binary value\n",
    "\n",
    "categorical_columns = ['degree_t', 'specialisation', 'workex'] # columns with multiple values"
   ]
  },
  {
   "cell_type": "code",
   "execution_count": 35,
   "id": "25238cb7",
   "metadata": {},
   "outputs": [],
   "source": [
    "# Numerical pipeline: Scaling \n",
    "numerical_transformer = Pipeline(steps=[\n",
    "    ('scaler', StandardScaler())  # Scaling numerical features\n",
    "])\n",
    "\n",
    "# Binary categorical pipeline: Label Encoding (One-Hot Encoding for binary columns)\n",
    "binary_transformer = Pipeline(steps=[\n",
    "    ('encoder', OneHotEncoder(drop='if_binary'))  # Automatically handles binary as 0/1\n",
    "])\n",
    "\n",
    "# 3. Multi-class categorical pipeline: One-Hot Encoding \n",
    "categorical_transformer = Pipeline(steps=[\n",
    "    ('onehot', OneHotEncoder(drop='first'))  # One-Hot Encoding with drop_first to avoid multicollinearity\n",
    "])\n",
    "\n",
    "# Step 3: Combine all the pipelines into one ColumnTransformer\n",
    "preprocessor = ColumnTransformer(transformers=[\n",
    "    ('num', numerical_transformer, numerical_columns),\n",
    "    ('bin', binary_transformer, binary_columns),\n",
    "    ('cat', categorical_transformer, categorical_columns)\n",
    "])\n",
    "\n",
    "# Add the preprocessing steps into a pipeline\n",
    "pipeline = Pipeline(steps=[('preprocessor', preprocessor)])"
   ]
  },
  {
   "cell_type": "code",
   "execution_count": 36,
   "id": "065ac6dc",
   "metadata": {},
   "outputs": [],
   "source": [
    "# Split the data into training and testing sets\n",
    "X_train, X_test, y_train, y_test = train_test_split(X, y, test_size=0.2, random_state=42)\n",
    "\n",
    "# Fit the pipeline on the training data\n",
    "X_train_tr = pipeline.fit_transform(X_train)"
   ]
  },
  {
   "cell_type": "markdown",
   "id": "f0eb41be",
   "metadata": {},
   "source": [
    "## 4) Handling Class Imbalance"
   ]
  },
  {
   "cell_type": "code",
   "execution_count": 37,
   "id": "633455fa",
   "metadata": {},
   "outputs": [],
   "source": [
    "from imblearn.over_sampling import SMOTE\n",
    "\n",
    "smote = SMOTE(random_state=42)  # initializing SMOTE\n",
    "\n",
    "# applying SMOTE to training data\n",
    "X_train_smote, y_train_smote = smote.fit_resample(X_train_tr, y_train)  \n",
    "\n",
    "X_test_tr = pipeline.transform(X_test)  # transforming test data to avoid data leakage"
   ]
  },
  {
   "cell_type": "markdown",
   "id": "ea00e46e",
   "metadata": {},
   "source": [
    "## 5) Model Training and Evaluation"
   ]
  },
  {
   "cell_type": "code",
   "execution_count": 38,
   "id": "3c3d9994",
   "metadata": {},
   "outputs": [],
   "source": [
    "from sklearn.linear_model import LogisticRegression\n",
    "from sklearn.tree import DecisionTreeClassifier\n",
    "from sklearn.ensemble import RandomForestClassifier\n",
    "from sklearn.naive_bayes import GaussianNB\n",
    "from sklearn.metrics import accuracy_score, precision_score, recall_score, f1_score, confusion_matrix\n",
    "\n",
    "# dictionary with classification models\n",
    "models = {\n",
    "    'Logistic Regression': LogisticRegression(random_state=42),\n",
    "    'Decision Tree': DecisionTreeClassifier(random_state=42),\n",
    "    'Random Forest': RandomForestClassifier(random_state=42),\n",
    "    'Naive Bayes': GaussianNB()\n",
    "}"
   ]
  },
  {
   "cell_type": "code",
   "execution_count": 39,
   "id": "f936330d",
   "metadata": {},
   "outputs": [
    {
     "name": "stdout",
     "output_type": "stream",
     "text": [
      "Model: Logistic Regression\n",
      "\n",
      "Accuracy: 0.8372\n",
      "Precision: 0.9\n",
      "Recall: 0.871\n",
      "F1 Score: 0.8852\n",
      "Confusion Matrix:\n",
      "                    Predicted Not Placed  Predicted Placed\n",
      "Actual Not Placed                     9                 3\n",
      "Actual Placed                         4                27\n",
      "\n",
      "Model: Decision Tree\n",
      "\n",
      "Accuracy: 0.814\n",
      "Precision: 0.871\n",
      "Recall: 0.871\n",
      "F1 Score: 0.871\n",
      "Confusion Matrix:\n",
      "                    Predicted Not Placed  Predicted Placed\n",
      "Actual Not Placed                     8                 4\n",
      "Actual Placed                         4                27\n",
      "\n",
      "Model: Random Forest\n",
      "\n",
      "Accuracy: 0.7674\n",
      "Precision: 0.8182\n",
      "Recall: 0.871\n",
      "F1 Score: 0.8438\n",
      "Confusion Matrix:\n",
      "                    Predicted Not Placed  Predicted Placed\n",
      "Actual Not Placed                     6                 6\n",
      "Actual Placed                         4                27\n",
      "\n",
      "Model: Naive Bayes\n",
      "\n",
      "Accuracy: 0.7442\n",
      "Precision: 0.8333\n",
      "Recall: 0.8065\n",
      "F1 Score: 0.8197\n",
      "Confusion Matrix:\n",
      "                    Predicted Not Placed  Predicted Placed\n",
      "Actual Not Placed                     7                 5\n",
      "Actual Placed                         6                25\n",
      "\n"
     ]
    }
   ],
   "source": [
    "# loop through all the models and train them\n",
    "for model_name, model in models.items():\n",
    "    # fit the model\n",
    "    model.fit(X_train_smote, y_train_smote)\n",
    "    \n",
    "    # make predictions\n",
    "    y_pred = model.predict(X_test_tr)\n",
    "    \n",
    "    # calculate evaluation metrics\n",
    "    print(f\"Model: {model_name}\\n\")\n",
    "    print(f\"Accuracy: {np.round(accuracy_score(y_test, y_pred), 4)}\")\n",
    "    print(f\"Precision: {np.round(precision_score(y_test, y_pred), 4)}\")\n",
    "    print(f\"Recall: {np.round(recall_score(y_test, y_pred), 4)}\")\n",
    "    print(f\"F1 Score: {np.round(f1_score(y_test, y_pred), 4)}\")\n",
    "    \n",
    "    cm_df = pd.DataFrame(confusion_matrix(y_test, y_pred), index=['Actual Not Placed', 'Actual Placed'],\n",
    "                         columns=['Predicted Not Placed', 'Predicted Placed'])\n",
    "    print(f\"Confusion Matrix:\\n {cm_df}\\n\")"
   ]
  },
  {
   "cell_type": "markdown",
   "id": "030d5d01",
   "metadata": {},
   "source": [
    "__Model Comparison :__\n",
    "\n",
    "__Logistic Regression__ model performed the best overall, with high precision and recall. It effectively identifies 'Placed' students while minimizing false positives. __Decision Tree__ model demonstrated robust performance, closely following Logistic Regression. It has balanced precision and recall but has a slightly lower accuracy. __Random Forest__ achieved the lowest accuracy among the models. Despite having good recall, it struggled with false positives, which affected its precision. __Naive Bayes__ had the weakest performance overall, with the lowest accuracy and F1 Score. While precision was decent, its recall was lower, indicating that it missed a notable number of 'Placed' students.\n",
    "\n",
    "__Note :__ Removing Naive Bayes because it consistently underperformed compared to the other models."
   ]
  },
  {
   "cell_type": "markdown",
   "id": "8990850c",
   "metadata": {},
   "source": [
    "## 6) Hyperparameter Tuning"
   ]
  },
  {
   "cell_type": "code",
   "execution_count": 40,
   "id": "de61e331",
   "metadata": {},
   "outputs": [],
   "source": [
    "from sklearn.model_selection import GridSearchCV\n",
    "\n",
    "# define parameter grids for each model\n",
    "param_grids = {\n",
    "    'Logistic Regression': {\n",
    "        'C': [0.001, 0.01, 0.1, 1, 10, 100],\n",
    "        'penalty': ['l1', 'l2', 'elasticnet', 'none'], \n",
    "    },\n",
    "    'Decision Tree': {\n",
    "        'criterion': ['gini', 'entropy'],\n",
    "        'max_depth': [None, 5, 10, 15, 20]\n",
    "    },\n",
    "    'Random Forest': {\n",
    "        'criterion': ['gini', 'entropy'],\n",
    "        'n_estimators': [50, 100, 200],\n",
    "        'max_depth': [None, 5, 10, 15]\n",
    "    }\n",
    "}"
   ]
  },
  {
   "cell_type": "code",
   "execution_count": 41,
   "id": "7901e513",
   "metadata": {},
   "outputs": [],
   "source": [
    "# dictionary to store results for all models\n",
    "all_results = {}\n",
    "\n",
    "# loop over each model and perform hyperparameter tuning\n",
    "for model_name, param_grid in param_grids.items():\n",
    "    if model_name == 'Logistic Regression':\n",
    "        model = LogisticRegression(random_state=42, solver='saga')\n",
    "    elif model_name == 'Decision Tree':\n",
    "        model = DecisionTreeClassifier(random_state=42)\n",
    "    elif model_name == 'Random Forest':\n",
    "        model = RandomForestClassifier(random_state=42)\n",
    "\n",
    "    # initiliazing GridSearchCV\n",
    "    grid_search = GridSearchCV(estimator=model, param_grid=param_grid, scoring='f1', cv=5)\n",
    "\n",
    "    # fit the GridSearchCV\n",
    "    grid_search.fit(X_train_smote, y_train_smote)\n",
    "\n",
    "    # store the best model and best parameters\n",
    "    best_model = grid_search.best_estimator_\n",
    "    best_params = grid_search.best_params_\n",
    "\n",
    "    # make predictions on the test set with the best model\n",
    "    y_pred_best = best_model.predict(X_test_tr)\n",
    "\n",
    "    # calculate evaluation metrics\n",
    "    results = {\n",
    "        'Model': model_name,\n",
    "        'Best Parameters': best_params,\n",
    "        'Accuracy': np.round(accuracy_score(y_test, y_pred_best), 4),\n",
    "        'Precision': np.round(precision_score(y_test, y_pred_best), 4),\n",
    "        'Recall': np.round(recall_score(y_test, y_pred_best), 4),\n",
    "        'F1 Score': np.round(f1_score(y_test, y_pred_best), 4),\n",
    "        'Confusion Matrix': confusion_matrix(y_test, y_pred_best)\n",
    "    }\n",
    "\n",
    "    all_results[model_name] = results  # store the results for this model"
   ]
  },
  {
   "cell_type": "code",
   "execution_count": 42,
   "id": "e5720037",
   "metadata": {},
   "outputs": [
    {
     "name": "stdout",
     "output_type": "stream",
     "text": [
      "Model: Logistic Regression\n",
      "\n",
      "Best Parameters: {'C': 1, 'penalty': 'l1'}\n",
      "Accuracy: 0.8372\n",
      "Precision: 0.9\n",
      "Recall: 0.871\n",
      "F1 Score: 0.8852\n",
      "Confusion Matrix:\n",
      "                   Predicted Not Placed  Predicted Placed\n",
      "Actual Not Placed                     9                 3\n",
      "Actual Placed                         4                27\n",
      "\n",
      "Model: Decision Tree\n",
      "\n",
      "Best Parameters: {'criterion': 'entropy', 'max_depth': None}\n",
      "Accuracy: 0.814\n",
      "Precision: 0.8485\n",
      "Recall: 0.9032\n",
      "F1 Score: 0.875\n",
      "Confusion Matrix:\n",
      "                   Predicted Not Placed  Predicted Placed\n",
      "Actual Not Placed                     7                 5\n",
      "Actual Placed                         3                28\n",
      "\n",
      "Model: Random Forest\n",
      "\n",
      "Best Parameters: {'criterion': 'gini', 'max_depth': 10, 'n_estimators': 50}\n",
      "Accuracy: 0.7907\n",
      "Precision: 0.8438\n",
      "Recall: 0.871\n",
      "F1 Score: 0.8571\n",
      "Confusion Matrix:\n",
      "                   Predicted Not Placed  Predicted Placed\n",
      "Actual Not Placed                     7                 5\n",
      "Actual Placed                         4                27\n",
      "\n"
     ]
    }
   ],
   "source": [
    "# print all results\n",
    "for model_name, metrics in all_results.items():\n",
    "    print(f\"Model: {metrics['Model']}\\n\")\n",
    "    print(f\"Best Parameters: {metrics['Best Parameters']}\")\n",
    "    print(f\"Accuracy: {metrics['Accuracy']}\")\n",
    "    print(f\"Precision: {metrics['Precision']}\")\n",
    "    print(f\"Recall: {metrics['Recall']}\")\n",
    "    print(f\"F1 Score: {metrics['F1 Score']}\")\n",
    "    \n",
    "    cm_df = pd.DataFrame(metrics['Confusion Matrix'], index=['Actual Not Placed', 'Actual Placed'],\n",
    "                         columns=['Predicted Not Placed', 'Predicted Placed'])\n",
    "    print(f\"Confusion Matrix:\\n{cm_df}\\n\")"
   ]
  },
  {
   "cell_type": "markdown",
   "id": "e9ca90d4",
   "metadata": {},
   "source": [
    "__Model Comparison :__ \n",
    "\n",
    "The evaluation of three models reveals that **Logistic Regression** outperforms the others, achieving the highest accuracy (0.8372), precision (0.90), and F1 score (0.8852). It is suitable for scenarios requiring interpretability. The **Decision Tree** excels in recall (0.9032), effectively identifying actual positives, making it valuable for minimizing false negatives, although its accuracy (0.814) is slightly lower. **Random Forest** has the lowest performance with an accuracy of 0.7907 and an F1 score of 0.8571, suggesting it may not be the best option for this dataset."
   ]
  },
  {
   "cell_type": "markdown",
   "id": "e32abd8f",
   "metadata": {},
   "source": [
    "__Before vs After Hyperparameter Tuning Comparison :__\n",
    "\n",
    "__Logistic Regression:__ Performance remains consistent with no change in metrics after tuning.\n",
    "\n",
    "__Decision Tree:__ Improved precision and recall, indicating better performance with hyperparameter tuning.\n",
    "\n",
    "__Random Forest:__ A slight decrease in accuracy and other metrics post-tuning, suggesting it may have overfitted with the selected hyperparameters."
   ]
  },
  {
   "cell_type": "markdown",
   "id": "58700f9b",
   "metadata": {},
   "source": [
    "## 7) Voting Classifier"
   ]
  },
  {
   "cell_type": "code",
   "execution_count": 43,
   "id": "e3f7008a",
   "metadata": {},
   "outputs": [],
   "source": [
    "from sklearn.ensemble import VotingClassifier\n",
    "\n",
    "# define the individual models with tuned hyperparameters\n",
    "lr = LogisticRegression(C=1, penalty='l1', solver='liblinear', random_state=42)\n",
    "dt = DecisionTreeClassifier(criterion='entropy', max_depth=None, random_state=42)\n",
    "rf = RandomForestClassifier(criterion='gini', max_depth=10, n_estimators=50, random_state=42)\n",
    "\n",
    "# create the Voting Classifier\n",
    "voting_clf = VotingClassifier(estimators=[\n",
    "    ('logistic_regression', lr),\n",
    "    ('decision_tree', dt),\n",
    "    ('random_forest', rf)],\n",
    "    voting='hard'   # majority voting \n",
    ")"
   ]
  },
  {
   "cell_type": "code",
   "execution_count": 44,
   "id": "affaff0a",
   "metadata": {},
   "outputs": [
    {
     "name": "stdout",
     "output_type": "stream",
     "text": [
      "Voting Classifier Performance:\n",
      "\n",
      "Accuracy: 0.8372\n",
      "Precision: 0.875\n",
      "Recall: 0.9032\n",
      "F1 Score: 0.8889\n",
      "Confusion Matrix:\n",
      "                   Predicted Not Placed  Predicted Placed\n",
      "Actual Not Placed                     8                 4\n",
      "Actual Placed                         3                28\n",
      "\n"
     ]
    }
   ],
   "source": [
    "# fit the Voting Classifier on the training data\n",
    "voting_clf.fit(X_train_smote, y_train_smote)\n",
    "\n",
    "# make predictions on the test set\n",
    "y_pred_voting = voting_clf.predict(X_test_tr)\n",
    "\n",
    "# evaluate the Voting Classifier's performance\n",
    "accuracy_voting = accuracy_score(y_test, y_pred_voting)\n",
    "precision_voting = precision_score(y_test, y_pred_voting)\n",
    "recall_voting = recall_score(y_test, y_pred_voting)\n",
    "f1_voting = f1_score(y_test, y_pred_voting)\n",
    "\n",
    "# confusion Matrix\n",
    "cm_voting = confusion_matrix(y_test, y_pred_voting)\n",
    "cm_voting_df = pd.DataFrame(cm_voting, index=['Actual Not Placed', 'Actual Placed'],\n",
    "                             columns=['Predicted Not Placed', 'Predicted Placed'])\n",
    "\n",
    "# print evaluation metrics\n",
    "print(f\"Voting Classifier Performance:\\n\")\n",
    "print(f\"Accuracy: {np.round(accuracy_voting, 4)}\")\n",
    "print(f\"Precision: {np.round(precision_voting, 4)}\")\n",
    "print(f\"Recall: {np.round(recall_voting, 4)}\")\n",
    "print(f\"F1 Score: {np.round(f1_voting, 4)}\")\n",
    "print(f\"Confusion Matrix:\\n{cm_voting_df}\\n\")"
   ]
  },
  {
   "cell_type": "markdown",
   "id": "6eb9ae0d",
   "metadata": {},
   "source": [
    "__Voting Classifier and Model Comparison:__\n",
    "\n",
    "__Accuracy:__ The Voting Classifier has an accuracy equal to that of Logistic Regression, indicating it is as effective in classifying the data.\n",
    "\n",
    "__Precision:__ The Voting Classifier's precision (0.875) is slightly lower than Logistic Regression (0.9) but higher than Decision Tree (0.8485) and Random Forest (0.8438).\n",
    "\n",
    "__Recall:__ The Voting Classifier matches the Recall of the Decision Tree (0.9032), outperforming Logistic Regression (0.871) and Random Forest (0.871).\n",
    "\n",
    "__F1 Score:__ The F1 Score of the Voting Classifier (0.8889) is higher than both Decision Tree and Random Forest, and slightly lower than Logistic Regression (0.8852)."
   ]
  },
  {
   "cell_type": "markdown",
   "id": "519a5a1c",
   "metadata": {},
   "source": [
    "## 8) Saving the Model"
   ]
  },
  {
   "cell_type": "code",
   "execution_count": 46,
   "id": "9c932a3a",
   "metadata": {},
   "outputs": [
    {
     "data": {
      "text/plain": [
       "['voting_classifier_model.pkl']"
      ]
     },
     "execution_count": 46,
     "metadata": {},
     "output_type": "execute_result"
    }
   ],
   "source": [
    "import joblib\n",
    "\n",
    "# saving the voting classifier\n",
    "joblib.dump(voting_clf, 'voting_classifier_model.pkl')"
   ]
  }
 ],
 "metadata": {
  "kernelspec": {
   "display_name": "Python 3 (ipykernel)",
   "language": "python",
   "name": "python3"
  },
  "language_info": {
   "codemirror_mode": {
    "name": "ipython",
    "version": 3
   },
   "file_extension": ".py",
   "mimetype": "text/x-python",
   "name": "python",
   "nbconvert_exporter": "python",
   "pygments_lexer": "ipython3",
   "version": "3.11.5"
  }
 },
 "nbformat": 4,
 "nbformat_minor": 5
}
